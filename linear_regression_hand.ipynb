{
 "cells": [
  {
   "cell_type": "markdown",
   "metadata": {},
   "source": [
    "Simple Linear Regression / Linear Method vs Sklearn\n",
    "\n",
    "Author: jvachier <br>\n",
    "Creation date: April 2021  <br>\n",
    "Publication date: April 2021 <br>\n",
    "\n",
    "Goal: Salary prediction as function of the number of years of experience using univariate linear regression, from linear method (built using Python classes) compared to Sklearn (in-built). \n",
    "\n",
    "Datasets: From Kaggle https://www.kaggle.com/datasets/karthickveerakumar/salary-data-simple-linear-regression\n",
    "\n",
    "\n",
    "\n",
    "Linear Method <br>\n",
    "\n",
    "The univariate (single feature) linear regression is given by<br>\n",
    "$$\n",
    "f(X) = \\beta_0 + X \\beta_1 \\text{ or } \\mathbf{\\hat{y}} = \\mathbf{X}_b \\mathbf{\\beta},\n",
    "$$<br>\n",
    "where $X$ is the feature (the number of years of experience), $\\mathbf{X}_b$ the matrix $Nx2$ with a $1$ in the first position ($N$ the size of the output $\\mathbf{y}$), and $\\mathbf{\\beta} = (\\beta_0,\\beta_1)^T$ are the parameters of the model that are learned.<br>\n",
    "A popular method to determine the parameters $\\mathbf{\\beta}$ is to use the method of least squares. The parameters $\\mathbf{\\beta}$ are chosen such that they minimize the residual sum of squares\n",
    "$$\n",
    "RSS(\\mathbf{\\beta}) = \\sum\\limits_{i=1}^{N}(y_i - f(x_i))^2 \\text{ or } RSS(\\mathbf{\\beta}) = (\\mathbf{y}-\\mathbf{X}_b \\mathbf{\\beta})^T(\\mathbf{y}-\\mathbf{X}_b \\mathbf{\\beta}).\n",
    "$$\n",
    "The first and second derivatives are given by\n",
    "$$\n",
    "\\frac{\\partial}{\\partial \\mathbf{\\beta}} RSS = - 2 \\mathbf{X}_b^T (\\mathbf{y}-\\mathbf{X}_b \\mathbf{\\beta}),\n",
    "$$\n",
    "and\n",
    "$$\n",
    "\\frac{\\partial}{\\partial \\mathbf{\\beta}\\partial \\mathbf{\\beta}^T} RSS = 2 \\mathbf{X}_b^T \\mathbf{X}_b \\text{ with } \\mathbf{X}_b^T \\mathbf{X}_b > 0.\n",
    "$$\n",
    "Setting the first derivative to zero\n",
    "$$\n",
    "\\mathbf{X}_b^T (\\mathbf{y}-\\mathbf{X}_b \\mathbf{\\beta}) = 0,\n",
    "$$\n",
    "gives the solution\n",
    "$$\n",
    "\\mathbf{\\beta} = (\\mathbf{X}_b^T\\mathbf{X}_b)^{-1}\\mathbf{X}_b^T\\mathbf{y}\n",
    "$$\n",
    "The predicted values are \n",
    "$$\n",
    "\\mathbf{\\hat{y}} = \\mathbf{X}_b \\mathbf{\\beta}.\n",
    "$$\n",
    "These latest will be compared to the ones obtained using a linear regression model from Sklearn.\n",
    "\n",
    "\n",
    "\n",
    "References: \n",
    "- 'The Elements of Statistical Learning' Hastie, Tibshirani, Friedman Springer (2017)\n",
    "- https://docs.python.org/3/tutorial/classes.html"
   ]
  },
  {
   "cell_type": "code",
   "execution_count": 145,
   "metadata": {},
   "outputs": [],
   "source": [
    "import pandas as pd\n",
    "import numpy as np\n",
    "import matplotlib.pyplot as plt\n",
    "from sklearn.linear_model import LinearRegression\n",
    "from sklearn.model_selection import train_test_split\n",
    "from sklearn.metrics import mean_squared_error\n",
    "from sklearn.metrics import r2_score"
   ]
  },
  {
   "cell_type": "code",
   "execution_count": 149,
   "metadata": {},
   "outputs": [],
   "source": [
    "class linear_regression:\n",
    "    def __init__(self):\n",
    "        \"\"\"\n",
    "            This method doesnot take any initial attributes. \n",
    "        \"\"\"\n",
    "        self.x = None \n",
    "        self.y = None\n",
    "        \n",
    "    def univariate_linear_regression(self,x,y):\n",
    "        matrix_x =  pd.DataFrame({'p0':np.ones(len(x)), 'p1':x})\n",
    "        matrix_x_numpy = matrix_x.to_numpy()\n",
    "        beta = np.dot(np.linalg.inv((np.dot(matrix_x_numpy.T,matrix_x_numpy))),np.dot(matrix_x_numpy.T,y))\n",
    "        yy = np.dot(matrix_x_numpy,beta)\n",
    "        return yy\n",
    "    \n",
    "    def skleanrn_LR(self,x,y):\n",
    "        x_train, x_test, y_train, y_test = train_test_split(x, y, test_size=0.33)\n",
    "        linear_reg = LinearRegression().fit(x_train, y_train)\n",
    "        pred_lr = linear_reg.predict(x_test)\n",
    "        return x_test, y_test, pred_lr\n",
    "    \n",
    "    def score_skleanrn_LR(self,y_test, pred_lr):\n",
    "        mse = mean_squared_error(y_test,pred_lr)\n",
    "        r2  = r2_score(y_test,pred_lr)\n",
    "        return np.sqrt(mse), r2\n",
    "    \n",
    "    def visualization(self,x,y,y_prediction,x_test,y_test,pred_lr):\n",
    "        plt.plot(x,y,'b.',label='Row Data')\n",
    "        plt.plot(x,y_prediction,'r',label='Linear Method')\n",
    "        plt.plot(x_test,pred_lr,'go',label='Sklearn')\n",
    "        plt.xlabel('Years of Experience',fontsize=18)\n",
    "        plt.ylabel('Salary',fontsize=18)\n",
    "        plt.legend()"
   ]
  },
  {
   "cell_type": "code",
   "execution_count": 150,
   "metadata": {},
   "outputs": [
    {
     "name": "stdout",
     "output_type": "stream",
     "text": [
      "Root Mean Squared Error:  6261.928450380868  | R2 Score or Coefficient of determination:  0.9632654149764545\n"
     ]
    },
    {
     "data": {
      "image/png": "[encoded data removed]",
      "text/plain": [
       "<Figure size 432x288 with 1 Axes>"
      ]
     },
     "metadata": {
      "needs_background": "light"
     },
     "output_type": "display_data"
    }
   ],
   "source": [
    "if __name__ == '__main__':\n",
    "    df = pd.read_csv('Salary_Data.csv')\n",
    "    #Linear Method\n",
    "    df_expe = df['YearsExperience']\n",
    "    df_sala = df['Salary']\n",
    "    \n",
    "    #Sklearn\n",
    "    df_expe_x = df['YearsExperience'].values.reshape(-1, 1)\n",
    "    df_sala_y = df['Salary'].values.reshape(-1, 1)\n",
    "    \n",
    "    yy                      = linear_regression()\n",
    "    \n",
    "    y_prediction            = yy.univariate_linear_regression(df_expe,df_sala)\n",
    "    x_test, y_test, pred_lr = yy.skleanrn_LR(df_expe_x,df_sala_y)\n",
    "    y_plot = yy.visualization(df_expe,df_sala,y_prediction,x_test, y_test, pred_lr)\n",
    "    root_mse, r2 = yy.score_skleanrn_LR(y_test, pred_lr)\n",
    "    \n",
    "    print(\"Root Mean Squared Error: \",mse,\" | R2 Score or Coefficient of determination: \",r2)"
   ]
  }
 ],
 "metadata": {
  "kernelspec": {
   "display_name": "Python 3",
   "language": "python",
   "name": "python3"
  },
  "language_info": {
   "codemirror_mode": {
    "name": "ipython",
    "version": 3
   },
   "file_extension": ".py",
   "mimetype": "text/x-python",
   "name": "python",
   "nbconvert_exporter": "python",
   "pygments_lexer": "ipython3",
   "version": "3.8.3"
  }
 },
 "nbformat": 4,
 "nbformat_minor": 4
}
